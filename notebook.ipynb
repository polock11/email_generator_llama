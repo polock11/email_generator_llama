{
 "cells": [
  {
   "cell_type": "code",
   "execution_count": 134,
   "metadata": {},
   "outputs": [],
   "source": [
    "from dotenv import load_dotenv\n",
    "from langchain_groq import ChatGroq\n",
    "from langchain_community.document_loaders import WebBaseLoader\n",
    "from langchain_core.prompts import PromptTemplate\n",
    "from langchain_core.output_parsers import JsonOutputParser\n",
    "from langchain_community.document_loaders import PyPDFLoader\n",
    "import os\n"
   ]
  },
  {
   "cell_type": "code",
   "execution_count": 26,
   "metadata": {},
   "outputs": [
    {
     "data": {
      "text/plain": [
       "True"
      ]
     },
     "execution_count": 26,
     "metadata": {},
     "output_type": "execute_result"
    }
   ],
   "source": [
    "load_dotenv()"
   ]
  },
  {
   "cell_type": "code",
   "execution_count": 184,
   "metadata": {},
   "outputs": [],
   "source": [
    "MODEL_NAME = \"llama-3.3-70b-versatile\"\n",
    "\n",
    "llm = ChatGroq(\n",
    "    temperature=0,\n",
    "    groq_api_key=os.getenv(\"GROQ_API_KEY\"),\n",
    "    model_name=MODEL_NAME\n",
    ")"
   ]
  },
  {
   "cell_type": "code",
   "execution_count": 181,
   "metadata": {},
   "outputs": [],
   "source": [
    "url = \"https://finnair.wd103.myworkdayjobs.com/finnair/job/Vantaa/Operations-Analyst_R244936-1?source=LinkedIn\"\n",
    "\n",
    "laoder = WebBaseLoader(url)\n",
    "jd_page_content = laoder.load()[-1]\n",
    "\n",
    "prompt = PromptTemplate.from_template(\n",
    "    \n",
    "    \"\"\"\n",
    "    Your role here is to extract some key information from this job description\n",
    "    and return them in plain JSON format.(this is very important. do not change the format)\n",
    "    information to extract: [`overview`,`company_name`,`role_name`, `responsibilities`,`experience`, `hard_skills`,`soft_skills`, `application_deadline`, `contact_person`]\n",
    "\n",
    "    Some helpful tips:\n",
    "    if you get multiple values, separate them with a comma and put them in a list.\n",
    "    if you are not able to extract any information, you assign \"n/a\" to that field. No preamble is needed. Do not include any other information oe verbose output.\n",
    "    Be concise and to the point.\n",
    "    overview is a short summary of the job. in 2/3 sentences.\n",
    "    hard skills: any skills that is tool or technology related.\n",
    "    soft skills: any skills that is not related hard skills.\n",
    "    responsibilities: job specific responsibilities.\n",
    "    casing of character should be standard each time.\n",
    "\n",
    "\n",
    "    example output: [add curly braces]\n",
    "\n",
    "        \"overview\": \"This is a job overview\",\n",
    "        \"company_name\": \"Company Name\",\n",
    "        \"role_name\": \"Data Analyst\",\n",
    "        \"experience\": \"2 years\",\n",
    "        \"hard_skills\": [\"Python\", \"SQL\"],\n",
    "        \"soft_skills\": [\"Teamwork\", \"Communication\"],\n",
    "        \"responsibilities\": \"This is a responsibility\",\n",
    "        \"application_deadline\": \"01/01/2022\",\n",
    "        \"contact_person\": [name, email, phone]\n",
    "    \n",
    "    \n",
    "\n",
    "    This is a job description for a job.\n",
    "    {page_content}\n",
    "    \"\"\"\n",
    ")\n",
    "\n",
    "chain = prompt | llm\n",
    "jd_info = chain.invoke(input={'page_content': jd_page_content})\n",
    "\n",
    "jd_json_parser = JsonOutputParser()\n",
    "jd_json = jd_json_parser.parse(jd_info.content)"
   ]
  },
  {
   "cell_type": "code",
   "execution_count": 182,
   "metadata": {},
   "outputs": [
    {
     "name": "stderr",
     "output_type": "stream",
     "text": [
      "Ignoring wrong pointing object 6 0 (offset 0)\n",
      "Ignoring wrong pointing object 8 0 (offset 0)\n",
      "Ignoring wrong pointing object 10 0 (offset 0)\n",
      "Ignoring wrong pointing object 12 0 (offset 0)\n",
      "Ignoring wrong pointing object 18 0 (offset 0)\n",
      "Ignoring wrong pointing object 20 0 (offset 0)\n",
      "Ignoring wrong pointing object 22 0 (offset 0)\n",
      "Ignoring wrong pointing object 25 0 (offset 0)\n",
      "Ignoring wrong pointing object 27 0 (offset 0)\n",
      "Ignoring wrong pointing object 30 0 (offset 0)\n",
      "Ignoring wrong pointing object 32 0 (offset 0)\n",
      "Ignoring wrong pointing object 44 0 (offset 0)\n",
      "Ignoring wrong pointing object 50 0 (offset 0)\n",
      "Ignoring wrong pointing object 54 0 (offset 0)\n",
      "Ignoring wrong pointing object 59 0 (offset 0)\n"
     ]
    }
   ],
   "source": [
    "#loading cv\n",
    "\n",
    "file_path = \"/Users/shakibibnashameem/Dropbox/Curriculum Vitae (CV)/2024/StoraEnso - Data Scientist/Shakib CV.pdf\"\n",
    "\n",
    "pdf_loader = PyPDFLoader(file_path)\n",
    "cv_pages = pdf_loader.load_and_split()\n",
    "\n",
    "\n",
    "def remove_extra_whitespace(sentence):\n",
    "    return ' '.join(sentence.split())\n",
    "\n",
    "clean_pages = [remove_extra_whitespace(page.page_content) for page in cv_pages]\n",
    "cv_content = \"\\n\".join(clean_pages)"
   ]
  },
  {
   "cell_type": "code",
   "execution_count": 183,
   "metadata": {},
   "outputs": [
    {
     "name": "stdout",
     "output_type": "stream",
     "text": [
      "Subject: Application for Operations Analyst Position at Finnair\n",
      "\n",
      "Dear Mr. Teemu Halttula,\n",
      "\n",
      "I hope this email finds you well. My name is Shakib Ibna Shameem Polock, and I am a highly motivated and detail-oriented professional with a strong background in data analysis and machine learning. As a Master's student in Business Analytics at the University of Oulu, I have developed a solid foundation in data-driven decision-making and analytics practices.\n",
      "\n",
      "With over a year of experience in data engineering and machine learning, I am confident that my skills and expertise can support the Ground Operations team at Finnair. My experience in maintaining production planning data, ensuring data insights, and establishing analytics practices aligns with the job description. I am proficient in Power BI, SQL, and Microsoft Power Platform, which are essential tools for this role. Additionally, my experience in data visualization, data processing, and predictive modeling can help the team to make informed decisions and drive business growth.\n",
      "\n",
      "I am particularly drawn to this role because it involves translating operational demand into data insights and analysis. I believe that my skills and experience can help the team to optimize ground operations, improve efficiency, and enhance customer satisfaction. I am excited about the opportunity to work with the Finnair team and contribute to the success of the company.\n",
      "\n",
      "I would like to express my strong interest in the Operations Analyst position and inquire about the team's current challenges and how I can contribute to addressing them. Could you please share some information about the current projects and initiatives that the Ground Operations team is working on, and how this role will contribute to the team's objectives?\n",
      "\n",
      "Thank you for considering my application. I would be thrilled to discuss my qualifications further and learn more about the company culture. Please feel free to contact me at +358 469386869 or polock.official@gmail.com.\n",
      "\n",
      "Best regards,\n",
      "\n",
      "Shakib Ibna Shameem Polock\n"
     ]
    }
   ],
   "source": [
    "find_relevency = PromptTemplate.from_template(\n",
    "\n",
    "    \"\"\" \n",
    "    Your task is to find the relevancy of the provided CV with the job information provided.\n",
    "    Here is the cv: {CV}\n",
    "    Here is the job information: {jd_info}\n",
    "\n",
    "    and then write an email to the hiring mamager to express your interest in the job.\n",
    "    and also mention the relevancy of your CV with the job description. \n",
    "    The email should be in a formal tone and should be concise and to the point.\n",
    "\n",
    "    The email should be in English and have a professional formal tone.\n",
    "    the email should have the following things :\n",
    "\n",
    "    1. Greetings\n",
    "    2. breif introduction of from the cv (for this keep it relevent to the job description)\n",
    "    3. mention where the candidate can offer help to the company according to the job descriotion.\n",
    "    4. express interest in the job.\n",
    "    5. Questions about the job or the company.(add an appropriate question that you might have about the job or the company)\n",
    "    6. closing remarks and thank you.\n",
    "\n",
    "    Note that is is human to human communication. So, keep it professional and formal and humanly.\n",
    "    \"\"\"\n",
    ")\n",
    "\n",
    "chain = find_relevency | llm\n",
    "email = chain.invoke(input={'CV': cv_content,\n",
    "                            'jd_info': jd_json})\n",
    "\n",
    "final_email = email.content\n",
    "\n",
    "print(final_email)"
   ]
  }
 ],
 "metadata": {
  "kernelspec": {
   "display_name": ".venv",
   "language": "python",
   "name": "python3"
  },
  "language_info": {
   "codemirror_mode": {
    "name": "ipython",
    "version": 3
   },
   "file_extension": ".py",
   "mimetype": "text/x-python",
   "name": "python",
   "nbconvert_exporter": "python",
   "pygments_lexer": "ipython3",
   "version": "3.13.0"
  }
 },
 "nbformat": 4,
 "nbformat_minor": 2
}
